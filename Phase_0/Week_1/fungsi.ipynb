{
 "cells": [
  {
   "cell_type": "markdown",
   "metadata": {},
   "source": [
    "## Contoh fungsi"
   ]
  },
  {
   "cell_type": "code",
   "execution_count": 1,
   "metadata": {},
   "outputs": [
    {
     "name": "stdout",
     "output_type": "stream",
     "text": [
      "hello, world\n"
     ]
    }
   ],
   "source": [
    "def halo ():\n",
    "    print ('hello, world')\n",
    "\n",
    "halo ()"
   ]
  },
  {
   "cell_type": "markdown",
   "metadata": {},
   "source": [
    "## Fungsi dengan argumen"
   ]
  },
  {
   "cell_type": "code",
   "execution_count": 2,
   "metadata": {},
   "outputs": [
    {
     "name": "stdout",
     "output_type": "stream",
     "text": [
      "3.0\n"
     ]
    }
   ],
   "source": [
    "def luas_segitiga (alas, tinggi):\n",
    "    print (1/2 * alas * tinggi)\n",
    "\n",
    "luas_segitiga(2,3)"
   ]
  },
  {
   "cell_type": "code",
   "execution_count": 4,
   "metadata": {},
   "outputs": [
    {
     "data": {
      "text/plain": [
       "6.0"
      ]
     },
     "execution_count": 4,
     "metadata": {},
     "output_type": "execute_result"
    }
   ],
   "source": [
    "def luas_segitiga (alas, tinggi):\n",
    "    return (1/2 * alas * tinggi)\n",
    "\n",
    "luas_segitiga(2,3) + 3"
   ]
  },
  {
   "cell_type": "code",
   "execution_count": 6,
   "metadata": {},
   "outputs": [
    {
     "data": {
      "text/plain": [
       "4"
      ]
     },
     "execution_count": 6,
     "metadata": {},
     "output_type": "execute_result"
    }
   ],
   "source": [
    "def luas_persegi (sisi):\n",
    "    luas = sisi * sisi\n",
    "    return luas\n",
    "\n",
    "luas_persegi(2)"
   ]
  },
  {
   "cell_type": "code",
   "execution_count": 9,
   "metadata": {},
   "outputs": [
    {
     "data": {
      "text/plain": [
       "20"
      ]
     },
     "execution_count": 9,
     "metadata": {},
     "output_type": "execute_result"
    }
   ],
   "source": [
    "def keliling_persegi_panjang (panjang, lebar):\n",
    "    keliling = 2*(panjang + lebar)\n",
    "    return keliling\n",
    "\n",
    "keliling_persegi_panjang (4,6)\n",
    "\n"
   ]
  },
  {
   "cell_type": "markdown",
   "metadata": {},
   "source": [
    "## Arbitrary Arguments (*ARGS) dan **KWARGS"
   ]
  },
  {
   "cell_type": "code",
   "execution_count": 13,
   "metadata": {},
   "outputs": [
    {
     "name": "stdout",
     "output_type": "stream",
     "text": [
      "Teman saya adalah Linus\n"
     ]
    }
   ],
   "source": [
    "def my_function(*nama):\n",
    "    print(\"Teman saya adalah \" + nama [2])\n",
    "my_function (\"Emil\", \"Tobias\", \"Linus\")"
   ]
  },
  {
   "cell_type": "code",
   "execution_count": 17,
   "metadata": {},
   "outputs": [
    {
     "name": "stdout",
     "output_type": "stream",
     "text": [
      "Nama teman saya adalah Linus\n"
     ]
    }
   ],
   "source": [
    "def my_function(nama3, nama2, nama1):\n",
    "    print(\"Nama teman saya adalah \" + nama3)\n",
    "my_function (nama1 =\"Emil\", nama2 =\"Tobias\", nama3 = \"Linus\")"
   ]
  },
  {
   "cell_type": "code",
   "execution_count": 18,
   "metadata": {},
   "outputs": [
    {
     "name": "stdout",
     "output_type": "stream",
     "text": [
      "Nama dia adalah Linus\n"
     ]
    }
   ],
   "source": [
    "def my_function1(**nama):\n",
    "    print('Nama dia adalah', nama ['nama1'])\n",
    "my_function1(nama1 = 'Linus', nama2 = \"Tobias\")"
   ]
  },
  {
   "cell_type": "markdown",
   "metadata": {},
   "source": [
    "## Default Parameter Value"
   ]
  },
  {
   "cell_type": "code",
   "execution_count": 21,
   "metadata": {},
   "outputs": [
    {
     "name": "stdout",
     "output_type": "stream",
     "text": [
      "I am from Indonesia\n",
      "I am from Swiss\n"
     ]
    }
   ],
   "source": [
    "def my_country(country = 'Indonesia'):\n",
    "    print('I am from', country)\n",
    "\n",
    "my_country()\n",
    "my_country('Swiss')"
   ]
  },
  {
   "cell_type": "markdown",
   "metadata": {},
   "source": [
    "## Variable Global vs Variable Local\n",
    "\n",
    "variable global = yang didefinisikan diluar fungsi\n",
    "variable local = yang didefinifikan didalam fungsi"
   ]
  },
  {
   "cell_type": "code",
   "execution_count": 23,
   "metadata": {},
   "outputs": [
    {
     "name": "stdout",
     "output_type": "stream",
     "text": [
      "siswa ini pintar\n",
      "saya luar biasa\n"
     ]
    }
   ],
   "source": [
    "x = 'luar biasa'\n",
    "\n",
    "def myfunc():\n",
    "    x = 'pintar'\n",
    "    print('siswa ini', x)\n",
    "\n",
    "myfunc()\n",
    "print ('saya', x)"
   ]
  },
  {
   "cell_type": "code",
   "execution_count": 26,
   "metadata": {},
   "outputs": [
    {
     "ename": "NameError",
     "evalue": "name 'cels' is not defined",
     "output_type": "error",
     "traceback": [
      "\u001b[0;31m---------------------------------------------------------------------------\u001b[0m",
      "\u001b[0;31mNameError\u001b[0m                                 Traceback (most recent call last)",
      "\u001b[1;32m/Users/arnaztejakusuma/Desktop/Arnaz_Bootcamp/Learning_Journal/Phase_0/Week_1/fungsi.ipynb Cell 16'\u001b[0m in \u001b[0;36m<cell line: 3>\u001b[0;34m()\u001b[0m\n\u001b[1;32m      <a href='vscode-notebook-cell:/Users/arnaztejakusuma/Desktop/Arnaz_Bootcamp/Learning_Journal/Phase_0/Week_1/fungsi.ipynb#ch0000025?line=0'>1</a>\u001b[0m \u001b[39mdef\u001b[39;00m \u001b[39mconvert\u001b[39m(fahr):\n\u001b[1;32m      <a href='vscode-notebook-cell:/Users/arnaztejakusuma/Desktop/Arnaz_Bootcamp/Learning_Journal/Phase_0/Week_1/fungsi.ipynb#ch0000025?line=1'>2</a>\u001b[0m     cels \u001b[39m=\u001b[39m fahr\u001b[39m*\u001b[39m\u001b[39m1.8\u001b[39m\u001b[39m+\u001b[39m\u001b[39m32.0\u001b[39m\n\u001b[0;32m----> <a href='vscode-notebook-cell:/Users/arnaztejakusuma/Desktop/Arnaz_Bootcamp/Learning_Journal/Phase_0/Week_1/fungsi.ipynb#ch0000025?line=2'>3</a>\u001b[0m cels\n\u001b[1;32m      <a href='vscode-notebook-cell:/Users/arnaztejakusuma/Desktop/Arnaz_Bootcamp/Learning_Journal/Phase_0/Week_1/fungsi.ipynb#ch0000025?line=3'>4</a>\u001b[0m \u001b[39mprint\u001b[39m(convert(\u001b[39m32\u001b[39m))\n",
      "\u001b[0;31mNameError\u001b[0m: name 'cels' is not defined"
     ]
    }
   ],
   "source": [
    "def convert(fahr):\n",
    "    cels = fahr*1.8+32.0\n",
    "return cels\n",
    "print(convert(32))"
   ]
  },
  {
   "cell_type": "code",
   "execution_count": 27,
   "metadata": {},
   "outputs": [
    {
     "ename": "SyntaxError",
     "evalue": "'return' outside function (501004028.py, line 4)",
     "output_type": "error",
     "traceback": [
      "\u001b[0;36m  Input \u001b[0;32mIn [27]\u001b[0;36m\u001b[0m\n\u001b[0;31m    return cels\u001b[0m\n\u001b[0m    ^\u001b[0m\n\u001b[0;31mSyntaxError\u001b[0m\u001b[0;31m:\u001b[0m 'return' outside function\n"
     ]
    }
   ],
   "source": [
    "def convert(fahr, kelv):\n",
    "    cels = fahr * 1.8 + 32.0\n",
    "    cels2 = kelv -273,15\n",
    "return cels\n",
    "\n",
    "print (32,20) (C)"
   ]
  },
  {
   "cell_type": "markdown",
   "metadata": {},
   "source": [
    "## Lambda Function"
   ]
  },
  {
   "cell_type": "code",
   "execution_count": 28,
   "metadata": {},
   "outputs": [
    {
     "data": {
      "text/plain": [
       "<function __main__.<lambda>(x, y)>"
      ]
     },
     "execution_count": 28,
     "metadata": {},
     "output_type": "execute_result"
    }
   ],
   "source": [
    "def square_sum(x,y):\n",
    "    return (x**2 + y**2)\n",
    "lambda x,y : x**2 + y**2"
   ]
  },
  {
   "cell_type": "code",
   "execution_count": 29,
   "metadata": {},
   "outputs": [
    {
     "name": "stdout",
     "output_type": "stream",
     "text": [
      "hello, Hana\n"
     ]
    }
   ],
   "source": [
    "greeting = lambda name : print (f\"hello, {name}\")\n",
    "sapa = greeting\n",
    "sapa ('Hana')"
   ]
  },
  {
   "cell_type": "markdown",
   "metadata": {},
   "source": [
    "## Modul (sekumpulan fungsi)"
   ]
  },
  {
   "cell_type": "code",
   "execution_count": null,
   "metadata": {},
   "outputs": [],
   "source": []
  }
 ],
 "metadata": {
  "interpreter": {
   "hash": "c656109590d48192edc5049bd821f9c22d25396e84daa2fca2c0589f5186d14f"
  },
  "kernelspec": {
   "display_name": "Python 3.9.12 ('base')",
   "language": "python",
   "name": "python3"
  },
  "language_info": {
   "codemirror_mode": {
    "name": "ipython",
    "version": 3
   },
   "file_extension": ".py",
   "mimetype": "text/x-python",
   "name": "python",
   "nbconvert_exporter": "python",
   "pygments_lexer": "ipython3",
   "version": "3.9.12"
  },
  "orig_nbformat": 4
 },
 "nbformat": 4,
 "nbformat_minor": 2
}
